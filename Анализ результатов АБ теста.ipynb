{
 "cells": [
  {
   "cell_type": "markdown",
   "id": "6f045bf0",
   "metadata": {},
   "source": [
    "## 1.Общий анализ АБ Теста:"
   ]
  },
  {
   "cell_type": "code",
   "execution_count": 1,
   "id": "172c1c9d",
   "metadata": {},
   "outputs": [],
   "source": [
    "import pandas as pd\n",
    "import numpy as np\n",
    "import statistics as st\n",
    "from scipy.stats import mannwhitneyu\n",
    "from scipy.stats import t\n",
    "from scipy.stats import chi2\n",
    "from scipy.stats import norm\n",
    "from scipy.stats import ttest_ind\n",
    "from scipy.stats import pearsonr\n",
    "from scipy.stats import spearmanr\n",
    "import seaborn as sns \n",
    "import matplotlib.pyplot as plt"
   ]
  },
  {
   "cell_type": "code",
   "execution_count": 2,
   "id": "d65b1c96",
   "metadata": {},
   "outputs": [],
   "source": [
    "#1\n",
    "Test = pd.read_csv('Dataset_AB_TEST.csv', delimiter=';')"
   ]
  },
  {
   "cell_type": "code",
   "execution_count": 3,
   "id": "35caf312",
   "metadata": {},
   "outputs": [],
   "source": [
    "#2\n",
    "Test1=Test.dropna()"
   ]
  },
  {
   "cell_type": "code",
   "execution_count": 4,
   "id": "9d6b27d3",
   "metadata": {},
   "outputs": [
    {
     "name": "stdout",
     "output_type": "stream",
     "text": [
      "<class 'pandas.core.frame.DataFrame'>\n",
      "Int64Index: 10840 entries, 0 to 10975\n",
      "Data columns (total 5 columns):\n",
      " #   Column      Non-Null Count  Dtype  \n",
      "---  ------      --------------  -----  \n",
      " 0   id_client   10840 non-null  int64  \n",
      " 1   id_group    10840 non-null  object \n",
      " 2   sum_pay     10840 non-null  float64\n",
      " 3   id_point    10840 non-null  float64\n",
      " 4   months_reg  10840 non-null  int64  \n",
      "dtypes: float64(2), int64(2), object(1)\n",
      "memory usage: 508.1+ KB\n"
     ]
    }
   ],
   "source": [
    "Test1.info()"
   ]
  },
  {
   "cell_type": "code",
   "execution_count": 5,
   "id": "ffe6eb4b",
   "metadata": {},
   "outputs": [
    {
     "data": {
      "text/html": [
       "<div>\n",
       "<style scoped>\n",
       "    .dataframe tbody tr th:only-of-type {\n",
       "        vertical-align: middle;\n",
       "    }\n",
       "\n",
       "    .dataframe tbody tr th {\n",
       "        vertical-align: top;\n",
       "    }\n",
       "\n",
       "    .dataframe thead th {\n",
       "        text-align: right;\n",
       "    }\n",
       "</style>\n",
       "<table border=\"1\" class=\"dataframe\">\n",
       "  <thead>\n",
       "    <tr style=\"text-align: right;\">\n",
       "      <th></th>\n",
       "      <th>id_client</th>\n",
       "      <th>id_group</th>\n",
       "      <th>sum_pay</th>\n",
       "      <th>id_point</th>\n",
       "      <th>months_reg</th>\n",
       "    </tr>\n",
       "  </thead>\n",
       "  <tbody>\n",
       "    <tr>\n",
       "      <th>0</th>\n",
       "      <td>1420218</td>\n",
       "      <td>test</td>\n",
       "      <td>3288.0</td>\n",
       "      <td>1199.0</td>\n",
       "      <td>8</td>\n",
       "    </tr>\n",
       "    <tr>\n",
       "      <th>1</th>\n",
       "      <td>1390221</td>\n",
       "      <td>control</td>\n",
       "      <td>1267.0</td>\n",
       "      <td>1182.0</td>\n",
       "      <td>11</td>\n",
       "    </tr>\n",
       "    <tr>\n",
       "      <th>2</th>\n",
       "      <td>1363404</td>\n",
       "      <td>control</td>\n",
       "      <td>4259.0</td>\n",
       "      <td>1178.0</td>\n",
       "      <td>2</td>\n",
       "    </tr>\n",
       "    <tr>\n",
       "      <th>3</th>\n",
       "      <td>1370042</td>\n",
       "      <td>test</td>\n",
       "      <td>7211.0</td>\n",
       "      <td>1179.0</td>\n",
       "      <td>3</td>\n",
       "    </tr>\n",
       "    <tr>\n",
       "      <th>4</th>\n",
       "      <td>1360376</td>\n",
       "      <td>control</td>\n",
       "      <td>760.0</td>\n",
       "      <td>1178.0</td>\n",
       "      <td>14</td>\n",
       "    </tr>\n",
       "  </tbody>\n",
       "</table>\n",
       "</div>"
      ],
      "text/plain": [
       "   id_client id_group  sum_pay  id_point  months_reg\n",
       "0    1420218     test   3288.0    1199.0           8\n",
       "1    1390221  control   1267.0    1182.0          11\n",
       "2    1363404  control   4259.0    1178.0           2\n",
       "3    1370042     test   7211.0    1179.0           3\n",
       "4    1360376  control    760.0    1178.0          14"
      ]
     },
     "execution_count": 5,
     "metadata": {},
     "output_type": "execute_result"
    }
   ],
   "source": [
    "Test1.head()"
   ]
  },
  {
   "cell_type": "code",
   "execution_count": 7,
   "id": "c78042d0",
   "metadata": {},
   "outputs": [],
   "source": [
    "def statistical_analysis(r,q=[0.1,0.25,0.3,0.4,0.5,0.6,0.75,0.9]):\n",
    "    if (isinstance(r,tuple) == True) or (isinstance(r, list) == True): #проверка типа данных на входе\n",
    "        if len(r) <= 4:\n",
    "            return ('Требуется более длинный ряд')\n",
    "        else:\n",
    "            r=r\n",
    "    else: \n",
    "        return ('Нужен список или кортеж!')\n",
    "    r_series = pd.Series(r) #перевод в тип данных серия Pandas\n",
    "    \n",
    "    r_mean = r_series.mean()\n",
    "    r_var = r_series.var()\n",
    "    r_std = round(r_series.std(),2)\n",
    "    \n",
    "    print(\"Среднее = \",r_mean)\n",
    "    print(\"Дисперсия = \",r_var)\n",
    "    print(\"Стандартное отклонение = \", r_std)\n",
    "    \n",
    "    qs = np.quantile(r_series,q)\n",
    "    for i in range(len(q)):\n",
    "        if q[i] == 0.25:\n",
    "            print ('Нижний квартиль:', qs[i])\n",
    "        elif q[i] == 0.5:\n",
    "            print ('Медиана:', qs[i])\n",
    "        elif q[i] == 0.75:\n",
    "            print ('Верхний квартиль:', qs[i])\n",
    "        else:\n",
    "            print('Дециль:', qs[i])\n",
    "    \n",
    "    sns.histplot(r)\n",
    "            \n",
    "    return r_mean, r_var, r_std, qs"
   ]
  },
  {
   "cell_type": "code",
   "execution_count": 8,
   "id": "80b32850",
   "metadata": {
    "scrolled": true
   },
   "outputs": [
    {
     "name": "stdout",
     "output_type": "stream",
     "text": [
      "Среднее =  3431.3779388532666\n",
      "Дисперсия =  6023895.900736336\n",
      "Стандартное отклонение =  2454.36\n",
      "Дециль: 409.0\n",
      "Нижний квартиль: 1237.0\n",
      "Дециль: 1576.0\n",
      "Дециль: 2307.0\n",
      "Медиана: 3155.0\n",
      "Дециль: 3899.0\n",
      "Верхний квартиль: 5274.0\n",
      "Дециль: 7011.0\n"
     ]
    },
    {
     "data": {
      "text/plain": [
       "(3431.3779388532666,\n",
       " 6023895.900736336,\n",
       " 2454.36,\n",
       " array([ 409., 1237., 1576., 2307., 3155., 3899., 5274., 7011.]))"
      ]
     },
     "execution_count": 8,
     "metadata": {},
     "output_type": "execute_result"
    },
    {
     "data": {
      "image/png": "[encoded data removed]",
      "text/plain": [
       "<Figure size 432x288 with 1 Axes>"
      ]
     },
     "metadata": {
      "needs_background": "light"
     },
     "output_type": "display_data"
    }
   ],
   "source": [
    "df=Test1.loc[Test1.sum_pay<12000]\n",
    "statistical_analysis(list(df['sum_pay']))"
   ]
  },
  {
   "cell_type": "code",
   "execution_count": 9,
   "id": "618358d6",
   "metadata": {
    "scrolled": true
   },
   "outputs": [
    {
     "data": {
      "image/png": "[encoded data removed]",
      "text/plain": [
       "<Figure size 432x288 with 1 Axes>"
      ]
     },
     "metadata": {
      "needs_background": "light"
     },
     "output_type": "display_data"
    }
   ],
   "source": [
    "#3 \n",
    "test=df.loc[Test1.id_group =='test']\n",
    "test=test['sum_pay']\n",
    "control=df.loc[Test1.id_group =='control']\n",
    "control=control['sum_pay']\n",
    "def show_hist (test,control):\n",
    "    sns.histplot(data=test) \n",
    "    sns.histplot(data=control, color='g')\n",
    "    plt.show()\n",
    "show_hist(test,control)"
   ]
  },
  {
   "cell_type": "markdown",
   "id": "5a8184d8",
   "metadata": {},
   "source": [
    "#### Вывод\n",
    "На визуализации видно, что сумма покупок выше в тестовой группе"
   ]
  },
  {
   "cell_type": "code",
   "execution_count": 10,
   "id": "6003737b",
   "metadata": {},
   "outputs": [],
   "source": [
    "#4 \n",
    "def test_calc (r1,r2,alpha=0.05):\n",
    "    s,p=ttest_ind(r1,r2)\n",
    "    if alpha<p:\n",
    "        print('Гипотеза Н0 о равентстве средних принимается')\n",
    "    else:\n",
    "        print('Гипотеза Н0 о равентстве средних отвергается')\n",
    "    return s,p"
   ]
  },
  {
   "cell_type": "code",
   "execution_count": 11,
   "id": "2724ae9f",
   "metadata": {},
   "outputs": [],
   "source": [
    "def  mann_whitney_func (set1,set2,a=0.05):\n",
    "    kMW,pMW = mannwhitneyu(set1,set2,alternative='two-sided')\n",
    "    if pMW>a:\n",
    "        print('Распределения равны')\n",
    "    else:print('Распределения не равны')\n",
    "    return kMW, pMW"
   ]
  },
  {
   "cell_type": "code",
   "execution_count": 12,
   "id": "24dbd1bf",
   "metadata": {},
   "outputs": [
    {
     "name": "stdout",
     "output_type": "stream",
     "text": [
      "Распределения равны\n"
     ]
    },
    {
     "data": {
      "text/plain": [
       "(14750609.5, 0.05842125879702285)"
      ]
     },
     "execution_count": 12,
     "metadata": {},
     "output_type": "execute_result"
    }
   ],
   "source": [
    "mann_whitney_func(test,control)"
   ]
  },
  {
   "cell_type": "markdown",
   "id": "a4e16a70",
   "metadata": {},
   "source": [
    "#### Вывод\n",
    "Существенной разницы между контрольной и тестовой группой нет"
   ]
  },
  {
   "cell_type": "code",
   "execution_count": 13,
   "id": "a6744fba",
   "metadata": {},
   "outputs": [
    {
     "name": "stdout",
     "output_type": "stream",
     "text": [
      "Гипотеза Н0 о равентстве средних отвергается\n"
     ]
    },
    {
     "data": {
      "text/plain": [
       "(3.7141912292177888, 0.0002048855494553075)"
      ]
     },
     "execution_count": 13,
     "metadata": {},
     "output_type": "execute_result"
    }
   ],
   "source": [
    "test_calc(test,control)"
   ]
  },
  {
   "cell_type": "markdown",
   "id": "6a8bc64e",
   "metadata": {},
   "source": [
    "#### Вывод\n",
    "Нулевая гипотеза отвергается, что означает, что разница существует"
   ]
  },
  {
   "cell_type": "markdown",
   "id": "ee006b5f",
   "metadata": {},
   "source": [
    "## 2.Анализ по торговым точкам"
   ]
  },
  {
   "cell_type": "code",
   "execution_count": 14,
   "id": "3f17a5fd",
   "metadata": {},
   "outputs": [],
   "source": [
    "uniq=df.id_point.unique()"
   ]
  },
  {
   "cell_type": "code",
   "execution_count": 23,
   "id": "02098a67",
   "metadata": {},
   "outputs": [
    {
     "name": "stdout",
     "output_type": "stream",
     "text": [
      "1199.0\n",
      "Недостаточно значений\n"
     ]
    },
    {
     "data": {
      "image/png": "[encoded data removed]",
      "text/plain": [
       "<Figure size 360x360 with 1 Axes>"
      ]
     },
     "metadata": {
      "needs_background": "light"
     },
     "output_type": "display_data"
    },
    {
     "name": "stdout",
     "output_type": "stream",
     "text": [
      "1182.0\n",
      "Распределения не равны\n",
      "Гипотеза Н0 о равентстве средних отвергается\n",
      "14.992145173063193 %\n"
     ]
    },
    {
     "data": {
      "image/png": "[encoded data removed]",
      "text/plain": [
       "<Figure size 360x360 with 1 Axes>"
      ]
     },
     "metadata": {
      "needs_background": "light"
     },
     "output_type": "display_data"
    },
    {
     "name": "stdout",
     "output_type": "stream",
     "text": [
      "1178.0\n",
      "Распределения не равны\n",
      "Гипотеза Н0 о равентстве средних принимается\n",
      "-3.1671633755590705 %\n"
     ]
    },
    {
     "data": {
      "image/png": "[encoded data removed]",
      "text/plain": [
       "<Figure size 360x360 with 1 Axes>"
      ]
     },
     "metadata": {
      "needs_background": "light"
     },
     "output_type": "display_data"
    },
    {
     "name": "stdout",
     "output_type": "stream",
     "text": [
      "1179.0\n",
      "Распределения равны\n",
      "Гипотеза Н0 о равентстве средних принимается\n",
      "5.622516244684022 %\n"
     ]
    },
    {
     "data": {
      "image/png": "[encoded data removed]",
      "text/plain": [
       "<Figure size 360x360 with 1 Axes>"
      ]
     },
     "metadata": {
      "needs_background": "light"
     },
     "output_type": "display_data"
    },
    {
     "name": "stdout",
     "output_type": "stream",
     "text": [
      "1186.0\n",
      "Недостаточно значений\n"
     ]
    },
    {
     "data": {
      "image/png": "[encoded data removed]",
      "text/plain": [
       "<Figure size 360x360 with 1 Axes>"
      ]
     },
     "metadata": {
      "needs_background": "light"
     },
     "output_type": "display_data"
    },
    {
     "name": "stdout",
     "output_type": "stream",
     "text": [
      "1188.0\n",
      "Недостаточно значений\n"
     ]
    },
    {
     "data": {
      "image/png": "[encoded data removed]",
      "text/plain": [
       "<Figure size 360x360 with 1 Axes>"
      ]
     },
     "metadata": {
      "needs_background": "light"
     },
     "output_type": "display_data"
    }
   ],
   "source": [
    "for i in uniq:\n",
    "    test=df.loc[(Test1.id_group =='test')& (Test1.id_point== i)]\n",
    "    test=test['sum_pay']\n",
    "    control=df.loc[(Test1.id_group =='control') & (Test1.id_point== i)]\n",
    "    control=control['sum_pay']\n",
    "    \n",
    "    plt.figure(figsize=(5,5))\n",
    "    plt.xlabel('Сумма оплат')\n",
    "    plt.ylabel('Количество оплат')\n",
    "    \n",
    "    print(i)\n",
    "    \n",
    "    if len(test) <=100 or len(control)<=100:\n",
    "        print('Недостаточно значений')\n",
    "    else:\n",
    "        mann_whitney_func(test,control)\n",
    "        test_calc(test,control)\n",
    "        print((test.sum()/control.sum())*100-100,'%') \n",
    "\n",
    "        \n",
    "    show_hist(test,control)"
   ]
  },
  {
   "cell_type": "markdown",
   "id": "b08c70fb",
   "metadata": {},
   "source": [
    "## 3. Сегментация по длительности регистрации\n",
    "    "
   ]
  },
  {
   "cell_type": "code",
   "execution_count": 168,
   "id": "04fa37fd",
   "metadata": {},
   "outputs": [],
   "source": [
    "def proxi_ranges(set1,set2,a=0.05):\n",
    "    disp1=np.var(set1)\n",
    "    disp2=np.var(set2)\n",
    "    covariance=np.cov(set1,set2)\n",
    "    print(f'''Дисперсия 1го ряда:{disp1}, дисперсия 2 го ряда:{disp2}, коэффициент ковариации: {covariance}''')\n",
    "    kPirs,pPirs=pearsonr(set1,set2)\n",
    "    kSpir,pSpir=spearmanr(set1,set2)\n",
    "    if pPirs>a:\n",
    "        print('Корреляция Пирсона для данных равна нулю')\n",
    "    elif abs(kPirs)<0.3:\n",
    "        print(f'Коэффициент корреляции Пирсона: {kPirs}. Корреляция слабая')\n",
    "    elif abs(kPirs)>0.7:\n",
    "        print(f'Коэффициент корреляции Пирсона: {kPirs}. Корреляция сильная')\n",
    "    else:\n",
    "        print(f'Коэффициент корреляции Пирсона: {kPirs}. Корреляция средняя')\n",
    "        \n",
    "    if pSpir>a:\n",
    "        print('Корреляция Спирмана для данных равна нулю')\n",
    "    elif abs(kSpir)<0.3:\n",
    "        print(f'Коэффициент корреляции Спирмена: {kSpir}. Корреляция слабая')\n",
    "    elif abs(kSpir)>0.7:\n",
    "        print(f'Коэффициент корреляции Спирмена: {kSpir}. Корреляция сильная')\n",
    "    else:\n",
    "        print(f'Коэффициент корреляции Спирмена: {kSpir}. Корреляция средняя')"
   ]
  },
  {
   "cell_type": "code",
   "execution_count": 169,
   "id": "2e1f69a0",
   "metadata": {},
   "outputs": [
    {
     "name": "stdout",
     "output_type": "stream",
     "text": [
      "Дисперсия 1го ряда:6023336.11113493, дисперсия 2 го ряда:10.038649533445552, коэффициент ковариации: [[6.02389590e+06 4.65262789e+03]\n",
      " [4.65262789e+03 1.00395825e+01]]\n",
      "Коэффициент корреляции Пирсона: 0.598276252133036. Корреляция средняя\n",
      "Коэффициент корреляции Спирмена: 0.6520008575703581. Корреляция средняя\n"
     ]
    }
   ],
   "source": [
    "proxi_ranges(df.sum_pay,df.months_reg)"
   ]
  },
  {
   "cell_type": "code",
   "execution_count": 175,
   "id": "cae006f5",
   "metadata": {},
   "outputs": [
    {
     "data": {
      "image/png": "[encoded data removed]",
      "text/plain": [
       "<Figure size 1440x720 with 1 Axes>"
      ]
     },
     "metadata": {
      "needs_background": "light"
     },
     "output_type": "display_data"
    }
   ],
   "source": [
    "plt.figure(figsize=(20,10))\n",
    "plt.scatter(df.sum_pay,df.months_reg)\n",
    "plt.xlabel('Сумма оплат')\n",
    "plt.ylabel('Количество месяцев регистрации')\n",
    "plt.show()"
   ]
  },
  {
   "cell_type": "markdown",
   "id": "52feacc1",
   "metadata": {},
   "source": [
    "#### Вывод\n",
    "На графике видно, что с ростом времени регистрации, растет сумма оплат"
   ]
  }
 ],
 "metadata": {
  "kernelspec": {
   "display_name": "Python 3 (ipykernel)",
   "language": "python",
   "name": "python3"
  },
  "language_info": {
   "codemirror_mode": {
    "name": "ipython",
    "version": 3
   },
   "file_extension": ".py",
   "mimetype": "text/x-python",
   "name": "python",
   "nbconvert_exporter": "python",
   "pygments_lexer": "ipython3",
   "version": "3.9.7"
  }
 },
 "nbformat": 4,
 "nbformat_minor": 5
}
